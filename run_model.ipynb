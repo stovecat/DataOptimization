{
 "cells": [
  {
   "cell_type": "markdown",
   "metadata": {},
   "source": [
    "# Data Optimization\n",
    "\n",
    "## 1. Algorithm\n",
    "Interleaved (I): 'withthreshold'\n",
    "\n",
    "Two-step (T): 'threshold'\n",
    "\n",
    "## 2. Drop unit \n",
    "Pair (P): 'pair'\n",
    "\n",
    "Document (D): 'document'\n",
    "\n",
    "Query (Q): 'query'\n",
    "\n",
    "## 3. Normalization\n",
    "Sum (S): None (default)\n",
    "\n",
    "Query mean (Q): 'qmean'"
   ]
  },
  {
   "cell_type": "code",
   "execution_count": null,
   "metadata": {},
   "outputs": [],
   "source": [
    "#'IDS'\n",
    "method = ['withthreshold', 'document']"
   ]
  },
  {
   "cell_type": "markdown",
   "metadata": {},
   "source": [
    "# Dataset\n",
    "(please manually change the variable named 'dataset_type' in main.py)\n",
    "\n",
    "MSLR-WEB10K: 'mslr-web10k'\n",
    "\n",
    "MSLR-WEB30K: 'mslr-web30k'\n",
    "\n",
    "(Mslr datasets have additional option of the data size: 'small' (default) | 'full')\n",
    "\n",
    "MQ2008-semi: 'mq2008-semi'\n",
    "\n",
    "Outdated annotations: 'naver'\n",
    "\n",
    "Click-through: 'naver_click'"
   ]
  },
  {
   "cell_type": "code",
   "execution_count": null,
   "metadata": {},
   "outputs": [],
   "source": [
    "#MSLR-WEB10K with full training data\n",
    "method.append('full')"
   ]
  },
  {
   "cell_type": "markdown",
   "metadata": {},
   "source": [
    "# Noise\n",
    "Enable noise: 'noise'\n",
    "\n",
    "EQR (Error Query Ratio): [0,100]\n",
    "\n",
    "EDR (Error Document Ratio): [0,100]\n",
    "\n",
    "Error Type (ET): 'SWDIST2'"
   ]
  },
  {
   "cell_type": "code",
   "execution_count": null,
   "metadata": {},
   "outputs": [],
   "source": [
    "# noise with EQR 20%, EDR 30%\n",
    "method.append('noise')\n",
    "EQR = 20\n",
    "EDR = 30\n",
    "ET = 'SWDIST2'"
   ]
  },
  {
   "cell_type": "markdown",
   "metadata": {},
   "source": [
    "# Device\n",
    "### Currently, GPU id is required"
   ]
  },
  {
   "cell_type": "code",
   "execution_count": null,
   "metadata": {},
   "outputs": [],
   "source": [
    "device = 0"
   ]
  },
  {
   "cell_type": "code",
   "execution_count": null,
   "metadata": {},
   "outputs": [],
   "source": [
    "import os \n",
    "command = 'python main.py %s %d %d %d %s' % \\\n",
    "            (\"_\".join(method), device, EQR, EDR, ET)\n",
    "os.system(command)"
   ]
  },
  {
   "cell_type": "markdown",
   "metadata": {},
   "source": [
    "# Other Examples\n",
    " \n",
    "Ex1) Run TPS on the small version of mslr-web30k with noise (EQR 20% EDR 30%) on GPU 0"
   ]
  },
  {
   "cell_type": "code",
   "execution_count": null,
   "metadata": {},
   "outputs": [],
   "source": [
    "os.system(\"python main.py pair_noise_threshold_small 0 20 30 SWDIST2\")"
   ]
  },
  {
   "cell_type": "markdown",
   "metadata": {},
   "source": [
    "Ex2) Run IDQ on mq2008-semi with noise (EQR 10% EDR 50%) on GPU 0"
   ]
  },
  {
   "cell_type": "code",
   "execution_count": null,
   "metadata": {},
   "outputs": [],
   "source": [
    "os.system(\"python main.py document_noise_withthreshold_qmean 0 10 50 SWDIST2\")"
   ]
  },
  {
   "cell_type": "markdown",
   "metadata": {},
   "source": [
    "Ex3) Run IPS on the full version of mslr-web10k without noise on GPU 0"
   ]
  },
  {
   "cell_type": "code",
   "execution_count": null,
   "metadata": {},
   "outputs": [],
   "source": [
    "os.system(\"python main.py pair_noise_withthreshold 0 0 0 SWDIST2\")"
   ]
  },
  {
   "cell_type": "markdown",
   "metadata": {},
   "source": [
    "or"
   ]
  },
  {
   "cell_type": "code",
   "execution_count": null,
   "metadata": {},
   "outputs": [],
   "source": [
    "os.system(\"python main.py pair_withthreshold 0\")  "
   ]
  }
 ],
 "metadata": {
  "kernelspec": {
   "display_name": "Python 3",
   "language": "python",
   "name": "python3"
  },
  "language_info": {
   "codemirror_mode": {
    "name": "ipython",
    "version": 3
   },
   "file_extension": ".py",
   "mimetype": "text/x-python",
   "name": "python",
   "nbconvert_exporter": "python",
   "pygments_lexer": "ipython3",
   "version": "3.6.10"
  }
 },
 "nbformat": 4,
 "nbformat_minor": 2
}
